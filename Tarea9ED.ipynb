{
  "nbformat": 4,
  "nbformat_minor": 0,
  "metadata": {
    "colab": {
      "name": "Tarea9ED.ipynb",
      "provenance": []
    },
    "kernelspec": {
      "name": "python3",
      "display_name": "Python 3"
    },
    "language_info": {
      "name": "python"
    }
  },
  "cells": [
    {
      "cell_type": "code",
      "metadata": {
        "id": "lRk706S2FgVm"
      },
      "source": [
        ""
      ],
      "execution_count": null,
      "outputs": []
    },
    {
      "cell_type": "code",
      "metadata": {
        "id": "FbAwT-H2M1-J"
      },
      "source": [
        "class StackADT:\n",
        "    def __init__( self ):\n",
        "        self.__data= list()\n",
        "\n",
        "    # regresa true si la pila esta vacia \n",
        "    def is_empty( self ):\n",
        "         return len( self.__data )==0\n",
        "        \n",
        "    def get_length( self ):\n",
        "        return len( self.__data)\n",
        "\n",
        "    def pop( self ):\n",
        "        if self.is_empty():\n",
        "            print(\"Pila vacia, nada que sacar\")\n",
        "        else:\n",
        "            return self.__data.pop()\n",
        "\n",
        "    def peek( self ):\n",
        "        if self.is_empty():\n",
        "            print(\"Pila vacia, nada que sacar\")\n",
        "        else:\n",
        "            return self.__data[ -1 ]\n",
        "\n",
        "    def push( self, value ):\n",
        "        self.__data.append( value )\n",
        "    \n",
        "    def to_string( self ):\n",
        "        for item in self.__data[::-1]:\n",
        "            print(f\"|  { item }   |\")"
      ],
      "execution_count": null,
      "outputs": []
    },
    {
      "cell_type": "code",
      "metadata": {
        "colab": {
          "base_uri": "https://localhost:8080/"
        },
        "id": "hdet3PHzGQkH",
        "outputId": "a11eb01f-0ce6-4e1f-b259-bf64c8d3dd85"
      },
      "source": [
        "!juegovida.txt"
      ],
      "execution_count": 28,
      "outputs": [
        {
          "output_type": "stream",
          "name": "stdout",
          "text": [
            "/bin/bash: juegovida.txt: command not found\n"
          ]
        }
      ]
    },
    {
      "cell_type": "code",
      "metadata": {
        "colab": {
          "base_uri": "https://localhost:8080/"
        },
        "id": "BOfK57QTI_Kw",
        "outputId": "a9ae332b-c92c-423e-e360-3d5d00331fbe"
      },
      "source": [
        "entrada= open('juegovida.txt' , 'rt')\n",
        "codigo = entrada.read()\n",
        "pilaControl= StackADT()\n",
        "pilaControl.push(\"#\")\n",
        "\n",
        "for letra in codigo:\n",
        "    if letra == '{':\n",
        "        pilaControl.push('{')\n",
        "    elif letra =='}':\n",
        "        if pilaControl.peek()=='#':\n",
        "            pilaControl.push('{')\n",
        "            \n",
        "        else:\n",
        "            Afuera= pilaControl.pop()\n",
        "#Detener \n",
        "\n",
        "    elif letra =='(':\n",
        "        pilaControl.push('(')\n",
        "    elif letra ==')':\n",
        "         if pilaControl.peek()=='#':\n",
        "             pilaControl.push(')')\n",
        "             break\n",
        "         else:\n",
        "             Afuera=pilaControl.pop()\n",
        "    else:\n",
        "        pass\n",
        "\n",
        "if pilaControl.peek()== '()':\n",
        "    print(\"El codigo esta balanceado correctamente\")\n",
        "else:\n",
        "    print(\"El codigo no esta bien balanceado\")\n",
        "    "
      ],
      "execution_count": 29,
      "outputs": [
        {
          "output_type": "stream",
          "name": "stdout",
          "text": [
            "El codigo no esta bien balanceado\n"
          ]
        }
      ]
    },
    {
      "cell_type": "code",
      "metadata": {
        "id": "DzomAK7mM0xo"
      },
      "source": [
        ""
      ],
      "execution_count": null,
      "outputs": []
    }
  ]
}